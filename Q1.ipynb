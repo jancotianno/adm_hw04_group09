{
 "cells": [
  {
   "cell_type": "code",
   "execution_count": 4,
   "metadata": {},
   "outputs": [],
   "source": [
    "from bs4 import BeautifulSoup\n",
    "import pandas as pd\n",
    "import requests"
   ]
  },
  {
   "cell_type": "code",
   "execution_count": 8,
   "metadata": {},
   "outputs": [],
   "source": [
    "# url is the link of the page they provided us\n",
    "url = \"https://www.immobiliare.it/vendita-case/roma/?criterio=rilevanza&pag=1\"\n",
    "# getting the url on the 'page' variable\n",
    "page = requests.get(url)\n",
    "# using soup library and saving the parsed html code in 'soup'\n",
    "soup = BeautifulSoup(page.text, 'html.parser')"
   ]
  },
  {
   "cell_type": "code",
   "execution_count": 11,
   "metadata": {},
   "outputs": [],
   "source": [
    "# i noticed that the class name of each insertion is 'descrizione__truncate', then saving them all on text_elem\n",
    "text_elem = soup.findAll(class_ = \"descrizione__truncate\")"
   ]
  },
  {
   "cell_type": "code",
   "execution_count": 13,
   "metadata": {},
   "outputs": [],
   "source": [
    "# creating empty list where we're gonna save all the insertions\n",
    "all_apartments = []\n",
    "# loop used to append single insertion to the list\n",
    "for ap in text_elem:\n",
    "    all_apartments.append(ap)\n",
    "    \n",
    "# dunno if everything is correct coz we need to create a matrix with the words the asked"
   ]
  },
  {
   "cell_type": "code",
   "execution_count": 15,
   "metadata": {},
   "outputs": [
    {
     "name": "stdout",
     "output_type": "stream",
     "text": [
      "[<p class=\"descrizione__truncate\">Le residenze di Rinascimento Quinto completano il programma edilizio Rione Rinascimento, il progetto di città giardino per Roma del Gruppo Pietro Mezzaroma e Figli.\n",
      "Il complesso residenziale è concepito per avere il minor impatto ambientale e paesaggistico possibile, così da integrarsi armoniosamente con il verde di Parco Talenti. L’intero quartiere è difatti al centro di una profonda riqualificazione urbana, che fa dell’eco-compatibilità e della...</p>, <p class=\"descrizione__truncate\">PAPILLO EUR in elegante complesso residenziale rifinitissimo bilocale composto da soggiorno con angolo cottura, stanza da letto bagno e ampio balcone . con Rifiniture di pregio, pavimenti in parquet / grees, infissi in legno con vetro camera e porte in noce, grate nel salone, riscaldamento termoautonomo con caldaia centralizzata, aria condizionata,...</p>, <p class=\"descrizione__truncate\">Trionfale, appartamento in vendita, adiacente Gemelli, ottimo investimento libero tranquillo luminoso ingresso salone 2 camere cucina abitabile bagno terrazzo 100 mq ca. Dilazioni - Permute. Rif. 1046B - Tel: 06.35341280\n",
      "\n",
      "\n",
      "Trionfale, apartment for sale, adjacent Gemelli, excellent investment free quiet bright entrance hall 2 bedrooms kitchen bathro...</p>, <p class=\"descrizione__truncate\">San Giovanni, Appartamento in Vendita, adiacente via Terni tranquillo luminoso ingresso soggiorno due camere cucina abitabile tripli servizi. Dilazioni - Permute. Rif. 999S - Tel. 06.69353612\n",
      "\n",
      "Apartment for Sale, adjacent via Terni quiet bright entrance living room two bedrooms kitchen living triple services.\n",
      "\n",
      "Appartement à vendre, adjacent via Ter...</p>, <p class=\"descrizione__truncate\">In Via Savona, una strada tranquilla nel cuore di San Giovanni, a due passi da Via La Spezia e da Piazza Lodi, proponiamo in vendita un esclusivo bilocale sito al terzo e penultimo piano di un palazzetto anni ’30. Grazie ad una ristrutturazione attenta e scrupolosa, l’appartamento ha mantenuto le caratteristiche e il fascino dell’epoca. Dal vano di...</p>, <p class=\"descrizione__truncate\">Nelle immediate vicinanze di viale Cortina D’Ampezzo, e più precisamente in Via del Forte Trionfale, proponiamo in vendita un elegante ed esclusivo attico e super attico da ristrutturare con vista panoramica in un condominio signorile di solo 8 proprietari. Posto al terzo e quarto piano di un Palazzo dei primi anni 70', l’immobile si compone di un ...</p>, <p class=\"descrizione__truncate\">TRIESTE - VILLA TORLONIA \n",
      "In Via Nomentana, altezza di Corso Trieste, nella splendida cornice di Villa Torlonia, abbiamo il piacere di proporre la vendita di uno splendido palazzetto. Unico nel suo genere e facilmente riconoscibile per il suo particolare colore, l’immobile appartenuto ad una famiglia nobile è stato sede dell’OIM per molti anni. ...</p>, <p class=\"descrizione__truncate\">Attico Panoramico zona Aurelia Via Bartolomeo Dusi n.18 sito www.maxdirocco.it\n",
      "\n",
      "Vivere un Attico significa regalare a te e alla tua famiglia una possibilità di vita straordinaria. Chiudi gli occhi e immagina la quiete del tuo riposo, senti sulla tua pelle i primi raggi di sole che al mattino illuminano il tuo ampio salone, pensa agli aperitivi ...</p>, <p class=\"descrizione__truncate\">In Via Sesto Rufo, nelle immediate vicinanze del Parco di Monte Ciocci, proponiamo in vendita esclusivo appartamento unico al piano di c.a. 250 mq. L’immobile, in ottime condizioni, è composto da: un ingresso signorile che conduce al luminoso salone triplo con annesso ampio terrazzo, cucina abitabile finestrata e zona notte, composta da 3 camere da...</p>, <p class=\"descrizione__truncate\">Nel cuore dei quartieri Trieste e Africano ed esattamente nella residenziale Via del Giuba, proponiamo in vendita questa esclusiva proprietà da ristrutturare di 460 mq, articolata su due livelli, dotata di fascino emozionale grazie alla sobrietà e alla raffinatezza dei suoi elementi di pregio. Il primo livello è posto al piano terra di un palazzo s...</p>, <p class=\"descrizione__truncate\">Garbatella, appartamento in Vendita, adiacente università, ottimo investimento libero tranquillo luminoso soggiorno con cucina a vista camera bagno terrazzino. Dilazioni - Permute Rif. 1044B Tel. 06.35341280\n",
      "\n",
      "\n",
      "Garbatella, apartment for Sale, adjoining university, excellent free investment quiet bright living room with open kitchen room bathroom ter...</p>, <p class=\"descrizione__truncate\">Rif: 18091 - SAN GIOVANNI - Via Dacia. Nelle immediate vicinanze di piazza Tuscolo, proponiamo all'interno di una palazzina fine anni '30, la vendita di un appartamento ristrutturato con affacci nel verde di 115mq, posto al quarto piano e composto da: ampio ingresso, salone, cucina abitabile, due camere da letto, una cameretta, uno stanzino con fin...</p>, <p class=\"descrizione__truncate\">Nella silenziosa Via Camillo Porzio, proponiamo in vendita esclusiva una villa indipendente unica nel suo genere risalente ai primi anni del Novecento. La proprietà è stata oggetto di una particolare ristrutturazione che ne ha valorizzato la funzionalità e gli ambienti. Si accede all’abitazione attraverso il suo meraviglioso giardino ricco di piant...</p>, <p class=\"descrizione__truncate\">Nel cuore del quartiere Trieste, a pochi passi da Piazza Verbano e dal Parco Nemorense, precisamente in Via Volsinio, proponiamo in vendita un elegante appartamento di 150mq posto al quarto piano di uno stabile degli anni ’20 in ottimo stato di conservazione. L’appartamento si articola in ampio ingresso, salotto, sala pranzo, cucina abitabile, tre ...</p>, <p class=\"descrizione__truncate\">Rif: 18067 - CENTOCELLE - Via delle Palme. Nelle immediate vicinanze di via Tor de' Schiavi e Via dei Castani, ben collegato a servizi pubblici ( Metro C / tram/bus) e attività commerciali, proponiamo all'interno di una palazzina di soli due piani, la vendita di un appartamento di 75mq, posto al primo piano (ultimo) e composto da: salone con angol...</p>, <p class=\"descrizione__truncate\">Eur, Appartamento in Vendita, via del Colle di Mezzo adiacente metro Laurentina piano alto in palazzo signorile completamente e finemente ristrutturato e accessoriato ampio ingresso salone tre camere cucina (arredata) doppi servizi ripostiglio balcone cantina. Dilazioni - Permute.\n",
      "\n",
      "Eur, Apartment for sale, Via del Colle di Mezzo adjacent metro Laur...</p>, <p class=\"descrizione__truncate\">ROMA – INFERNETTO – RESIDENZA AZZURRA ”WHITE STYLE” in CLASSE A– VIA LOTTI/VIA TRAETTA”.\n",
      "\n",
      "Finalmente nella tua zona, fantastica villa bi-livello, fuori terra con 3 camere matrimoniali sullo stesso piano, unica nel suo genere!!! anti-sismica, anti-allagamento in vera Classe “A”, con sistema di costruzione di ultima generazione ICF Italia in stile mo...</p>, <p class=\"descrizione__truncate\">In Via dei Colli della Farnesina, in prossimità di Ponte Milvio, proponiamo la vendita di un ampio appartamento da poco ristrutturato, posto al secondo di uno stabile elegante e signorile.\n",
      "L’appartamento, è composto da un grande salone, una zona pranzo, tre camere letto tutte con bagno privato, cucina abitabile, camera e bagno di servizio, ulterior...</p>, <p class=\"descrizione__truncate\">Nelle immediate vicinanze del Gianicolo e di Villa Pamphili, Engel &amp; Völkers propone in vendita un attico in Via Orti di Galba. Posto al quinto piano di un condominio in ottimo stato senza ascensore, l’attico si sviluppa su una superficie di ca 70 mq ed è composto da un ingresso, un cucinotto, un soggiorno, una camera da letto, un bagno ed un ripos...</p>, <p class=\"descrizione__truncate\">Prati, appartamento in vendita, adiacente Sabotino, piano alto, libero tranquillo luminoso, ampio ingresso, salone doppio, tre camere, cucina abitabile, doppi servizi, ripostiglio, balconi.\n",
      "Dilazioni - Permute. Rif.812P - Tel. 06.83964019\n",
      "\n",
      "Prati, apartment for sale near Sabotino, high floor, free quiet, bright, large entrance hall, double living ro...</p>, <p class=\"descrizione__truncate\">Rif: 17083 - MONTEVERDE VECCHIO - Via Francesco Massi. In zona ben servita da attività commerciali e servizi di ogni genere, proponiamo all'interno di un'elegante palazzina in cortina, la vendita di un appartamento di 120mq, posto al terzo piano e composto da: ampio ingresso, salone, tre camere matrimoniali, cucina abitabile, servizio e due balconi...</p>, <p class=\"descrizione__truncate\">Colli Aniene, Appartamento in Vendita, via Virgilio Melandri divisibile luminoso ristrutturato ampio salone di 70 mq con cucina a vista due camere doppi servizi ripostiglio. Dilazioni - Permute. Rif. 1063S - Tel. 06.69353612.\n",
      "\n",
      "Apartment for Sale, via Virgilio Melandri divisible bright renovated large living room of 70 sqm with open kitchen two bedr...</p>, <p class=\"descrizione__truncate\">Rif: 18097 - AURELIO - Via Raffaele Conforti. Adiacenze Ergife, proponiamo all'interno dell'elegante residence “Le Colonne”, la vendita di una prestigiosa villa disposta su quattro livelli fuori terra, collegati tra loro da comode scale e ascensore privato, così composta: al piano terra, ampio salone di rappresentanza con camino, sala pranzo, cucin...</p>, <p class=\"descrizione__truncate\">Rif: 18087 - CASILINA - Via Pietro Rovetti. Nel quartiere Torpignattara, ben collegato da attività commerciali di ogni genere e mezzi pubblici, proponiamo all'interno di una palazzina d'epoca ristrutturata,la vendita un luminoso appartamento recentemente ristrutturato, posto al quarto ed ultimo piano di 60mq circa e composto da: ingresso, salone, ...</p>, <p class=\"descrizione__truncate\">Rif: 18083 - TORREVECCHIA - Via Ezio Sciamanna. Nelle immediate vicinanze della stazione Monte Mario, in stabile recentemente ristrutturato proponiamo la vendita di un bilocale in buono stato interno con tripla esposizione, posto al piano rialzato e composto da: ingresso, due ampie camere, cucina abitabile, servizio, soppalco. Con un piccolo interv...</p>]\n"
     ]
    }
   ],
   "source": [
    "print(all_apartments)"
   ]
  }
 ],
 "metadata": {
  "kernelspec": {
   "display_name": "Python 3",
   "language": "python",
   "name": "python3"
  },
  "language_info": {
   "codemirror_mode": {
    "name": "ipython",
    "version": 3
   },
   "file_extension": ".py",
   "mimetype": "text/x-python",
   "name": "python",
   "nbconvert_exporter": "python",
   "pygments_lexer": "ipython3",
   "version": "3.6.5"
  }
 },
 "nbformat": 4,
 "nbformat_minor": 2
}
