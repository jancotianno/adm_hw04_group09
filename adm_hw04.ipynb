{
 "cells": [
  {
   "cell_type": "code",
   "execution_count": 1,
   "metadata": {},
   "outputs": [],
   "source": [
    "from bs4 import BeautifulSoup\n",
    "import pandas as pd\n",
    "import requests"
   ]
  },
  {
   "cell_type": "code",
   "execution_count": 2,
   "metadata": {},
   "outputs": [],
   "source": [
    "# url is the link of the page they provided us\n",
    "url = \"https://www.immobiliare.it/vendita-case/roma/?criterio=rilevanza&pag=1\"\n",
    "#url = \"https://www.immobiliare.it/vendita-case/roma/?criterio=rilevanza&pag=\"\n",
    "# we need to iterate this for every 1733 pages xD\n",
    "all_urls = []\n",
    "#for i in range(1728):\n",
    "    #url = \"https://www.immobiliare.it/vendita-case/roma/?criterio=rilevanza&pag=\" + str(i)\n",
    "# getting the url on the 'page' variable\n",
    "page = requests.get(url)\n",
    "# using soup library and saving the parsed html code in 'soup'\n",
    "soup = BeautifulSoup(page.text, 'html.parser')\n",
    "desc = [\"price\", \"piano\", \"locali\", \"superficie\", \"bagni\"] # the data of each annoucements"
   ]
  },
  {
   "cell_type": "code",
   "execution_count": 5,
   "metadata": {},
   "outputs": [],
   "source": [
    "# i noticed that the class name of each insertion is 'descrizione__truncate', then saving them all on text_elem\n",
    "all_prices = soup.findAll(class_ = \"lif__item lif__pricing\") # for the prices should be ok but have to take just the integer number from it\n",
    "#all_piano = soup.findAll(class_ = \"text-bold im-abbr\")#\"lif__text lif--muted\")\n",
    "# locali, superficie and bagni all have the same class name, so we need to iterate somehow over parameters?!\n",
    "#all_locali = soup.findAll(class_ = \"lif__data\")\n",
    "#all_superficie = soup.findAll(class_ = \"text-bold\")\n",
    "#all_bagni = soup.findAll(class_ = \"lif__data\")"
   ]
  },
  {
   "cell_type": "code",
   "execution_count": 2,
   "metadata": {
    "scrolled": true
   },
   "outputs": [],
   "source": [
    "locali = superficie = bagni = piano = False"
   ]
  },
  {
   "cell_type": "code",
   "execution_count": 64,
   "metadata": {},
   "outputs": [],
   "source": [
    "nr_bagni = nr_piano = []"
   ]
  },
  {
   "cell_type": "code",
   "execution_count": 8,
   "metadata": {},
   "outputs": [],
   "source": [
    "all_ann = soup.findAll(class_ = \"listing-item_body--content\")#listing-item vetrina js-row-detail\") #creating list containing all the page's announcements "
   ]
  },
  {
   "cell_type": "code",
   "execution_count": 22,
   "metadata": {},
   "outputs": [],
   "source": [
    "for ann in all_ann: # for each announcement\n",
    "    for tag in ann.descendants: # we check in each announcement's children tag\n",
    "        if tag.name == \"li\" and \"lif__pricing\" in tag['class']:\n",
    "            price = tag.string # on price variable we save the price amount, need to extract only the amount (using regex)\n",
    "#print(price.strip())€ 315.000"
   ]
  },
  {
   "cell_type": "code",
   "execution_count": 65,
   "metadata": {
    "scrolled": true
   },
   "outputs": [
    {
     "name": "stdout",
     "output_type": "stream",
     "text": [
      "['1-5\\xa0', '2\\xa0', '4\\xa0', '5+\\xa0', '5+\\xa0', '5\\xa0', '5+\\xa0', '4\\xa0', '5+\\xa0', '5+\\xa0', '3\\xa0', '3\\xa0', '2\\xa0', '2\\xa0', '5+\\xa0', '4\\xa0', '5+\\xa0', '5+\\xa0', '3\\xa0', '3\\xa0', '4\\xa0', '3\\xa0', '5+\\xa0', '5+\\xa0', '3\\xa0']\n"
     ]
    }
   ],
   "source": [
    "nr_locali = []\n",
    "for ann in all_ann: # for each announcement\n",
    "    for tag in ann.children: # we check in each announcement's children tag\n",
    "        if tag.name == \"ul\" and \"listing-features\" in tag[\"class\"]:\n",
    "            for child in tag.children:\n",
    "                if child.name == \"li\" and \"lif__item\" in child[\"class\"]:\n",
    "                    for c in child.children:\n",
    "                        if c.string == \"locali\":\n",
    "                            prev = c.previousSibling\n",
    "                            for x in prev.contents:\n",
    "                                if x.name == \"span\":\n",
    "                                    locali = x.string\n",
    "                                    nr_locali.append(locali)\n",
    "    \n",
    "print(nr_locali)"
   ]
  },
  {
   "cell_type": "code",
   "execution_count": 66,
   "metadata": {},
   "outputs": [
    {
     "name": "stdout",
     "output_type": "stream",
     "text": [
      "['46', '50', '130', '220', '500', '170', '190', '150', '300', '193', '90', '190', '58', '55', '392', '110', '204', '145', '100', '87', '90', '50', '270', '180', '92']\n"
     ]
    }
   ],
   "source": [
    "nr_superficie = []\n",
    "for ann in all_ann: # for each announcement\n",
    "    for tag in ann.children: # we check in each announcement's children tag\n",
    "        if tag.name == \"ul\" and \"listing-features\" in tag[\"class\"]:\n",
    "            for child in tag.children:\n",
    "                if child.name == \"li\" and \"lif__item\" in child[\"class\"]:\n",
    "                    for c in child.children:\n",
    "                        if c.string == \"superficie\":\n",
    "                            prev = c.previousSibling\n",
    "                            for x in prev.contents:\n",
    "                                if x.name == \"span\":\n",
    "                                    superficie = x.string\n",
    "                                    nr_superficie.append(superficie)\n",
    "print(nr_superficie)"
   ]
  },
  {
   "cell_type": "code",
   "execution_count": 62,
   "metadata": {},
   "outputs": [
    {
     "name": "stdout",
     "output_type": "stream",
     "text": [
      "['1-5\\xa0', '2\\xa0', '4\\xa0', '5+\\xa0', '5+\\xa0', '5\\xa0', '5+\\xa0', '4\\xa0', '5+\\xa0', '5+\\xa0', '3\\xa0', '3\\xa0', '2\\xa0', '2\\xa0', '5+\\xa0', '4\\xa0', '5+\\xa0', '5+\\xa0', '3\\xa0', '3\\xa0', '4\\xa0', '3\\xa0', '5+\\xa0', '5+\\xa0', '3\\xa0', '46', '50', '130', '220', '500', '170', '190', '150', '300', '193', '90', '190', '58', '55', '392', '110', '204', '145', '100', '87', '90', '50', '270', '180', '92']\n"
     ]
    }
   ],
   "source": [
    "print(nr_locali)"
   ]
  },
  {
   "cell_type": "code",
   "execution_count": 18,
   "metadata": {},
   "outputs": [
    {
     "name": "stdout",
     "output_type": "stream",
     "text": [
      "<div class=\"lif__data\">4     \n",
      "<svg class=\"icon-svg\" height=\"16\" width=\"16\">\n",
      "<use xlink:href=\"#rooms\"></use>\n",
      "</svg></div>\n"
     ]
    }
   ],
   "source": [
    "#soup.findAll(\"lif__data\")\n",
    "dv = soup.findAll(\"div\", { \"class\" : \"lif__data\" })\n",
    "print(dv[2])"
   ]
  },
  {
   "cell_type": "code",
   "execution_count": 40,
   "metadata": {},
   "outputs": [],
   "source": [
    "# creating empty list where we're gonna save all the insertion prices\n",
    "all_apartments_prices = []\n",
    "all_apartments_piano = []\n",
    "# loop used to append single price to the list\n",
    "for price in all_prices:\n",
    "    all_apartments_prices.append(price.text)\n",
    "for piano in all_piano:\n",
    "    all_apartments_piano.append(piano.text)\n",
    "\n",
    "# dunno if everything is correct coz we need to create a matrix with the words the asked"
   ]
  },
  {
   "cell_type": "code",
   "execution_count": 17,
   "metadata": {
    "scrolled": true
   },
   "outputs": [],
   "source": [
    "# just taking the nr of announcements of page1\n",
    "page1_insertions = len(all_apartments_prices)"
   ]
  },
  {
   "cell_type": "code",
   "execution_count": 25,
   "metadata": {},
   "outputs": [],
   "source": [
    "# creating df for page1 announcements\n",
    "df = pd.DataFrame(index = range(page1_insertions), columns = desc)"
   ]
  },
  {
   "cell_type": "code",
   "execution_count": 33,
   "metadata": {},
   "outputs": [
    {
     "ename": "ValueError",
     "evalue": "Length of values does not match length of index",
     "output_type": "error",
     "traceback": [
      "\u001b[1;31m---------------------------------------------------------------------------\u001b[0m",
      "\u001b[1;31mValueError\u001b[0m                                Traceback (most recent call last)",
      "\u001b[1;32m<ipython-input-33-c977ac57f295>\u001b[0m in \u001b[0;36m<module>\u001b[1;34m()\u001b[0m\n\u001b[0;32m      1\u001b[0m \u001b[0mdf\u001b[0m\u001b[1;33m[\u001b[0m\u001b[1;34m\"price\"\u001b[0m\u001b[1;33m]\u001b[0m \u001b[1;33m=\u001b[0m \u001b[0mall_apartments_prices\u001b[0m\u001b[1;33m\u001b[0m\u001b[0m\n\u001b[1;32m----> 2\u001b[1;33m \u001b[0mdf\u001b[0m\u001b[1;33m[\u001b[0m\u001b[1;34m\"piano\"\u001b[0m\u001b[1;33m]\u001b[0m \u001b[1;33m=\u001b[0m \u001b[0mall_apartments_piano\u001b[0m\u001b[1;33m\u001b[0m\u001b[0m\n\u001b[0m",
      "\u001b[1;32m~\\Anaconda3\\lib\\site-packages\\pandas\\core\\frame.py\u001b[0m in \u001b[0;36m__setitem__\u001b[1;34m(self, key, value)\u001b[0m\n\u001b[0;32m   3114\u001b[0m         \u001b[1;32melse\u001b[0m\u001b[1;33m:\u001b[0m\u001b[1;33m\u001b[0m\u001b[0m\n\u001b[0;32m   3115\u001b[0m             \u001b[1;31m# set column\u001b[0m\u001b[1;33m\u001b[0m\u001b[1;33m\u001b[0m\u001b[0m\n\u001b[1;32m-> 3116\u001b[1;33m             \u001b[0mself\u001b[0m\u001b[1;33m.\u001b[0m\u001b[0m_set_item\u001b[0m\u001b[1;33m(\u001b[0m\u001b[0mkey\u001b[0m\u001b[1;33m,\u001b[0m \u001b[0mvalue\u001b[0m\u001b[1;33m)\u001b[0m\u001b[1;33m\u001b[0m\u001b[0m\n\u001b[0m\u001b[0;32m   3117\u001b[0m \u001b[1;33m\u001b[0m\u001b[0m\n\u001b[0;32m   3118\u001b[0m     \u001b[1;32mdef\u001b[0m \u001b[0m_setitem_slice\u001b[0m\u001b[1;33m(\u001b[0m\u001b[0mself\u001b[0m\u001b[1;33m,\u001b[0m \u001b[0mkey\u001b[0m\u001b[1;33m,\u001b[0m \u001b[0mvalue\u001b[0m\u001b[1;33m)\u001b[0m\u001b[1;33m:\u001b[0m\u001b[1;33m\u001b[0m\u001b[0m\n",
      "\u001b[1;32m~\\Anaconda3\\lib\\site-packages\\pandas\\core\\frame.py\u001b[0m in \u001b[0;36m_set_item\u001b[1;34m(self, key, value)\u001b[0m\n\u001b[0;32m   3189\u001b[0m \u001b[1;33m\u001b[0m\u001b[0m\n\u001b[0;32m   3190\u001b[0m         \u001b[0mself\u001b[0m\u001b[1;33m.\u001b[0m\u001b[0m_ensure_valid_index\u001b[0m\u001b[1;33m(\u001b[0m\u001b[0mvalue\u001b[0m\u001b[1;33m)\u001b[0m\u001b[1;33m\u001b[0m\u001b[0m\n\u001b[1;32m-> 3191\u001b[1;33m         \u001b[0mvalue\u001b[0m \u001b[1;33m=\u001b[0m \u001b[0mself\u001b[0m\u001b[1;33m.\u001b[0m\u001b[0m_sanitize_column\u001b[0m\u001b[1;33m(\u001b[0m\u001b[0mkey\u001b[0m\u001b[1;33m,\u001b[0m \u001b[0mvalue\u001b[0m\u001b[1;33m)\u001b[0m\u001b[1;33m\u001b[0m\u001b[0m\n\u001b[0m\u001b[0;32m   3192\u001b[0m         \u001b[0mNDFrame\u001b[0m\u001b[1;33m.\u001b[0m\u001b[0m_set_item\u001b[0m\u001b[1;33m(\u001b[0m\u001b[0mself\u001b[0m\u001b[1;33m,\u001b[0m \u001b[0mkey\u001b[0m\u001b[1;33m,\u001b[0m \u001b[0mvalue\u001b[0m\u001b[1;33m)\u001b[0m\u001b[1;33m\u001b[0m\u001b[0m\n\u001b[0;32m   3193\u001b[0m \u001b[1;33m\u001b[0m\u001b[0m\n",
      "\u001b[1;32m~\\Anaconda3\\lib\\site-packages\\pandas\\core\\frame.py\u001b[0m in \u001b[0;36m_sanitize_column\u001b[1;34m(self, key, value, broadcast)\u001b[0m\n\u001b[0;32m   3386\u001b[0m \u001b[1;33m\u001b[0m\u001b[0m\n\u001b[0;32m   3387\u001b[0m             \u001b[1;31m# turn me into an ndarray\u001b[0m\u001b[1;33m\u001b[0m\u001b[1;33m\u001b[0m\u001b[0m\n\u001b[1;32m-> 3388\u001b[1;33m             \u001b[0mvalue\u001b[0m \u001b[1;33m=\u001b[0m \u001b[0m_sanitize_index\u001b[0m\u001b[1;33m(\u001b[0m\u001b[0mvalue\u001b[0m\u001b[1;33m,\u001b[0m \u001b[0mself\u001b[0m\u001b[1;33m.\u001b[0m\u001b[0mindex\u001b[0m\u001b[1;33m,\u001b[0m \u001b[0mcopy\u001b[0m\u001b[1;33m=\u001b[0m\u001b[1;32mFalse\u001b[0m\u001b[1;33m)\u001b[0m\u001b[1;33m\u001b[0m\u001b[0m\n\u001b[0m\u001b[0;32m   3389\u001b[0m             \u001b[1;32mif\u001b[0m \u001b[1;32mnot\u001b[0m \u001b[0misinstance\u001b[0m\u001b[1;33m(\u001b[0m\u001b[0mvalue\u001b[0m\u001b[1;33m,\u001b[0m \u001b[1;33m(\u001b[0m\u001b[0mnp\u001b[0m\u001b[1;33m.\u001b[0m\u001b[0mndarray\u001b[0m\u001b[1;33m,\u001b[0m \u001b[0mIndex\u001b[0m\u001b[1;33m)\u001b[0m\u001b[1;33m)\u001b[0m\u001b[1;33m:\u001b[0m\u001b[1;33m\u001b[0m\u001b[0m\n\u001b[0;32m   3390\u001b[0m                 \u001b[1;32mif\u001b[0m \u001b[0misinstance\u001b[0m\u001b[1;33m(\u001b[0m\u001b[0mvalue\u001b[0m\u001b[1;33m,\u001b[0m \u001b[0mlist\u001b[0m\u001b[1;33m)\u001b[0m \u001b[1;32mand\u001b[0m \u001b[0mlen\u001b[0m\u001b[1;33m(\u001b[0m\u001b[0mvalue\u001b[0m\u001b[1;33m)\u001b[0m \u001b[1;33m>\u001b[0m \u001b[1;36m0\u001b[0m\u001b[1;33m:\u001b[0m\u001b[1;33m\u001b[0m\u001b[0m\n",
      "\u001b[1;32m~\\Anaconda3\\lib\\site-packages\\pandas\\core\\series.py\u001b[0m in \u001b[0;36m_sanitize_index\u001b[1;34m(data, index, copy)\u001b[0m\n\u001b[0;32m   3996\u001b[0m \u001b[1;33m\u001b[0m\u001b[0m\n\u001b[0;32m   3997\u001b[0m     \u001b[1;32mif\u001b[0m \u001b[0mlen\u001b[0m\u001b[1;33m(\u001b[0m\u001b[0mdata\u001b[0m\u001b[1;33m)\u001b[0m \u001b[1;33m!=\u001b[0m \u001b[0mlen\u001b[0m\u001b[1;33m(\u001b[0m\u001b[0mindex\u001b[0m\u001b[1;33m)\u001b[0m\u001b[1;33m:\u001b[0m\u001b[1;33m\u001b[0m\u001b[0m\n\u001b[1;32m-> 3998\u001b[1;33m         \u001b[1;32mraise\u001b[0m \u001b[0mValueError\u001b[0m\u001b[1;33m(\u001b[0m\u001b[1;34m'Length of values does not match length of '\u001b[0m \u001b[1;34m'index'\u001b[0m\u001b[1;33m)\u001b[0m\u001b[1;33m\u001b[0m\u001b[0m\n\u001b[0m\u001b[0;32m   3999\u001b[0m \u001b[1;33m\u001b[0m\u001b[0m\n\u001b[0;32m   4000\u001b[0m     \u001b[1;32mif\u001b[0m \u001b[0misinstance\u001b[0m\u001b[1;33m(\u001b[0m\u001b[0mdata\u001b[0m\u001b[1;33m,\u001b[0m \u001b[0mABCIndexClass\u001b[0m\u001b[1;33m)\u001b[0m \u001b[1;32mand\u001b[0m \u001b[1;32mnot\u001b[0m \u001b[0mcopy\u001b[0m\u001b[1;33m:\u001b[0m\u001b[1;33m\u001b[0m\u001b[0m\n",
      "\u001b[1;31mValueError\u001b[0m: Length of values does not match length of index"
     ]
    }
   ],
   "source": [
    "df[\"price\"] = all_apartments_prices\n",
    "df[\"piano\"] = all_apartments_piano"
   ]
  },
  {
   "cell_type": "code",
   "execution_count": 28,
   "metadata": {},
   "outputs": [
    {
     "data": {
      "text/html": [
       "<div>\n",
       "<style scoped>\n",
       "    .dataframe tbody tr th:only-of-type {\n",
       "        vertical-align: middle;\n",
       "    }\n",
       "\n",
       "    .dataframe tbody tr th {\n",
       "        vertical-align: top;\n",
       "    }\n",
       "\n",
       "    .dataframe thead th {\n",
       "        text-align: right;\n",
       "    }\n",
       "</style>\n",
       "<table border=\"1\" class=\"dataframe\">\n",
       "  <thead>\n",
       "    <tr style=\"text-align: right;\">\n",
       "      <th></th>\n",
       "      <th>price</th>\n",
       "      <th>piano</th>\n",
       "      <th>locali</th>\n",
       "      <th>superfice</th>\n",
       "      <th>bagni</th>\n",
       "    </tr>\n",
       "  </thead>\n",
       "  <tbody>\n",
       "    <tr>\n",
       "      <th>0</th>\n",
       "      <td>da € 192.000\\n</td>\n",
       "      <td>NaN</td>\n",
       "      <td>NaN</td>\n",
       "      <td>NaN</td>\n",
       "      <td>NaN</td>\n",
       "    </tr>\n",
       "    <tr>\n",
       "      <th>1</th>\n",
       "      <td>\\n                    € 225.000\\n</td>\n",
       "      <td>NaN</td>\n",
       "      <td>NaN</td>\n",
       "      <td>NaN</td>\n",
       "      <td>NaN</td>\n",
       "    </tr>\n",
       "    <tr>\n",
       "      <th>2</th>\n",
       "      <td>\\n                    € 520.000\\n</td>\n",
       "      <td>NaN</td>\n",
       "      <td>NaN</td>\n",
       "      <td>NaN</td>\n",
       "      <td>NaN</td>\n",
       "    </tr>\n",
       "    <tr>\n",
       "      <th>3</th>\n",
       "      <td>\\n                    € 579.000\\n</td>\n",
       "      <td>NaN</td>\n",
       "      <td>NaN</td>\n",
       "      <td>NaN</td>\n",
       "      <td>NaN</td>\n",
       "    </tr>\n",
       "    <tr>\n",
       "      <th>4</th>\n",
       "      <td>\\n                    € 1.380.000\\n           ...</td>\n",
       "      <td>NaN</td>\n",
       "      <td>NaN</td>\n",
       "      <td>NaN</td>\n",
       "      <td>NaN</td>\n",
       "    </tr>\n",
       "    <tr>\n",
       "      <th>5</th>\n",
       "      <td>\\n                    € 450.000\\n</td>\n",
       "      <td>NaN</td>\n",
       "      <td>NaN</td>\n",
       "      <td>NaN</td>\n",
       "      <td>NaN</td>\n",
       "    </tr>\n",
       "    <tr>\n",
       "      <th>6</th>\n",
       "      <td>€ 159.000€ 169.000(-5.9%)</td>\n",
       "      <td>NaN</td>\n",
       "      <td>NaN</td>\n",
       "      <td>NaN</td>\n",
       "      <td>NaN</td>\n",
       "    </tr>\n",
       "    <tr>\n",
       "      <th>7</th>\n",
       "      <td>\\n                    € 229.000\\n</td>\n",
       "      <td>NaN</td>\n",
       "      <td>NaN</td>\n",
       "      <td>NaN</td>\n",
       "      <td>NaN</td>\n",
       "    </tr>\n",
       "    <tr>\n",
       "      <th>8</th>\n",
       "      <td>\\n                    € 950.000\\n</td>\n",
       "      <td>NaN</td>\n",
       "      <td>NaN</td>\n",
       "      <td>NaN</td>\n",
       "      <td>NaN</td>\n",
       "    </tr>\n",
       "    <tr>\n",
       "      <th>9</th>\n",
       "      <td>\\n                    € 199.000\\n</td>\n",
       "      <td>NaN</td>\n",
       "      <td>NaN</td>\n",
       "      <td>NaN</td>\n",
       "      <td>NaN</td>\n",
       "    </tr>\n",
       "    <tr>\n",
       "      <th>10</th>\n",
       "      <td>\\n                    € 289.000\\n</td>\n",
       "      <td>NaN</td>\n",
       "      <td>NaN</td>\n",
       "      <td>NaN</td>\n",
       "      <td>NaN</td>\n",
       "    </tr>\n",
       "    <tr>\n",
       "      <th>11</th>\n",
       "      <td>\\n                    € 215.000\\n</td>\n",
       "      <td>NaN</td>\n",
       "      <td>NaN</td>\n",
       "      <td>NaN</td>\n",
       "      <td>NaN</td>\n",
       "    </tr>\n",
       "    <tr>\n",
       "      <th>12</th>\n",
       "      <td>\\n                    € 895.000\\n</td>\n",
       "      <td>NaN</td>\n",
       "      <td>NaN</td>\n",
       "      <td>NaN</td>\n",
       "      <td>NaN</td>\n",
       "    </tr>\n",
       "    <tr>\n",
       "      <th>13</th>\n",
       "      <td>\\n                    € 1.499.000\\n           ...</td>\n",
       "      <td>NaN</td>\n",
       "      <td>NaN</td>\n",
       "      <td>NaN</td>\n",
       "      <td>NaN</td>\n",
       "    </tr>\n",
       "    <tr>\n",
       "      <th>14</th>\n",
       "      <td>\\n                    € 720.000\\n</td>\n",
       "      <td>NaN</td>\n",
       "      <td>NaN</td>\n",
       "      <td>NaN</td>\n",
       "      <td>NaN</td>\n",
       "    </tr>\n",
       "    <tr>\n",
       "      <th>15</th>\n",
       "      <td>€ 139.000€ 149.000(-6.7%)</td>\n",
       "      <td>NaN</td>\n",
       "      <td>NaN</td>\n",
       "      <td>NaN</td>\n",
       "      <td>NaN</td>\n",
       "    </tr>\n",
       "    <tr>\n",
       "      <th>16</th>\n",
       "      <td>€ 139.000€ 149.000(-6.7%)</td>\n",
       "      <td>NaN</td>\n",
       "      <td>NaN</td>\n",
       "      <td>NaN</td>\n",
       "      <td>NaN</td>\n",
       "    </tr>\n",
       "    <tr>\n",
       "      <th>17</th>\n",
       "      <td>\\n                    € 235.000\\n</td>\n",
       "      <td>NaN</td>\n",
       "      <td>NaN</td>\n",
       "      <td>NaN</td>\n",
       "      <td>NaN</td>\n",
       "    </tr>\n",
       "    <tr>\n",
       "      <th>18</th>\n",
       "      <td>\\n                    € 1.050.000\\n           ...</td>\n",
       "      <td>NaN</td>\n",
       "      <td>NaN</td>\n",
       "      <td>NaN</td>\n",
       "      <td>NaN</td>\n",
       "    </tr>\n",
       "    <tr>\n",
       "      <th>19</th>\n",
       "      <td>\\n                    € 695.000\\n</td>\n",
       "      <td>NaN</td>\n",
       "      <td>NaN</td>\n",
       "      <td>NaN</td>\n",
       "      <td>NaN</td>\n",
       "    </tr>\n",
       "    <tr>\n",
       "      <th>20</th>\n",
       "      <td>\\n                    € 849.000\\n</td>\n",
       "      <td>NaN</td>\n",
       "      <td>NaN</td>\n",
       "      <td>NaN</td>\n",
       "      <td>NaN</td>\n",
       "    </tr>\n",
       "    <tr>\n",
       "      <th>21</th>\n",
       "      <td>\\n                    € 370.000\\n</td>\n",
       "      <td>NaN</td>\n",
       "      <td>NaN</td>\n",
       "      <td>NaN</td>\n",
       "      <td>NaN</td>\n",
       "    </tr>\n",
       "    <tr>\n",
       "      <th>22</th>\n",
       "      <td>\\n                    € 169.000\\n</td>\n",
       "      <td>NaN</td>\n",
       "      <td>NaN</td>\n",
       "      <td>NaN</td>\n",
       "      <td>NaN</td>\n",
       "    </tr>\n",
       "    <tr>\n",
       "      <th>23</th>\n",
       "      <td>\\n                    € 850.000\\n</td>\n",
       "      <td>NaN</td>\n",
       "      <td>NaN</td>\n",
       "      <td>NaN</td>\n",
       "      <td>NaN</td>\n",
       "    </tr>\n",
       "    <tr>\n",
       "      <th>24</th>\n",
       "      <td>\\n                    € 1.050.000\\n           ...</td>\n",
       "      <td>NaN</td>\n",
       "      <td>NaN</td>\n",
       "      <td>NaN</td>\n",
       "      <td>NaN</td>\n",
       "    </tr>\n",
       "  </tbody>\n",
       "</table>\n",
       "</div>"
      ],
      "text/plain": [
       "                                                price piano locali superfice  \\\n",
       "0                      da € 192.000\\n                   NaN    NaN       NaN   \n",
       "1   \\n                    € 225.000\\n                   NaN    NaN       NaN   \n",
       "2   \\n                    € 520.000\\n                   NaN    NaN       NaN   \n",
       "3   \\n                    € 579.000\\n                   NaN    NaN       NaN   \n",
       "4   \\n                    € 1.380.000\\n           ...   NaN    NaN       NaN   \n",
       "5   \\n                    € 450.000\\n                   NaN    NaN       NaN   \n",
       "6                           € 159.000€ 169.000(-5.9%)   NaN    NaN       NaN   \n",
       "7   \\n                    € 229.000\\n                   NaN    NaN       NaN   \n",
       "8   \\n                    € 950.000\\n                   NaN    NaN       NaN   \n",
       "9   \\n                    € 199.000\\n                   NaN    NaN       NaN   \n",
       "10  \\n                    € 289.000\\n                   NaN    NaN       NaN   \n",
       "11  \\n                    € 215.000\\n                   NaN    NaN       NaN   \n",
       "12  \\n                    € 895.000\\n                   NaN    NaN       NaN   \n",
       "13  \\n                    € 1.499.000\\n           ...   NaN    NaN       NaN   \n",
       "14  \\n                    € 720.000\\n                   NaN    NaN       NaN   \n",
       "15                          € 139.000€ 149.000(-6.7%)   NaN    NaN       NaN   \n",
       "16                          € 139.000€ 149.000(-6.7%)   NaN    NaN       NaN   \n",
       "17  \\n                    € 235.000\\n                   NaN    NaN       NaN   \n",
       "18  \\n                    € 1.050.000\\n           ...   NaN    NaN       NaN   \n",
       "19  \\n                    € 695.000\\n                   NaN    NaN       NaN   \n",
       "20  \\n                    € 849.000\\n                   NaN    NaN       NaN   \n",
       "21  \\n                    € 370.000\\n                   NaN    NaN       NaN   \n",
       "22  \\n                    € 169.000\\n                   NaN    NaN       NaN   \n",
       "23  \\n                    € 850.000\\n                   NaN    NaN       NaN   \n",
       "24  \\n                    € 1.050.000\\n           ...   NaN    NaN       NaN   \n",
       "\n",
       "   bagni  \n",
       "0    NaN  \n",
       "1    NaN  \n",
       "2    NaN  \n",
       "3    NaN  \n",
       "4    NaN  \n",
       "5    NaN  \n",
       "6    NaN  \n",
       "7    NaN  \n",
       "8    NaN  \n",
       "9    NaN  \n",
       "10   NaN  \n",
       "11   NaN  \n",
       "12   NaN  \n",
       "13   NaN  \n",
       "14   NaN  \n",
       "15   NaN  \n",
       "16   NaN  \n",
       "17   NaN  \n",
       "18   NaN  \n",
       "19   NaN  \n",
       "20   NaN  \n",
       "21   NaN  \n",
       "22   NaN  \n",
       "23   NaN  \n",
       "24   NaN  "
      ]
     },
     "execution_count": 28,
     "metadata": {},
     "output_type": "execute_result"
    }
   ],
   "source": [
    "df"
   ]
  }
 ],
 "metadata": {
  "kernelspec": {
   "display_name": "Python 3",
   "language": "python",
   "name": "python3"
  },
  "language_info": {
   "codemirror_mode": {
    "name": "ipython",
    "version": 3
   },
   "file_extension": ".py",
   "mimetype": "text/x-python",
   "name": "python",
   "nbconvert_exporter": "python",
   "pygments_lexer": "ipython3",
   "version": "3.6.5"
  }
 },
 "nbformat": 4,
 "nbformat_minor": 2
}
