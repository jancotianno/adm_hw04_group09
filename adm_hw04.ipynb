{
 "cells": [
  {
   "cell_type": "code",
   "execution_count": 2,
   "metadata": {},
   "outputs": [],
   "source": [
    "from bs4 import BeautifulSoup\n",
    "import pandas as pd\n",
    "import requests"
   ]
  },
  {
   "cell_type": "code",
   "execution_count": 12,
   "metadata": {},
   "outputs": [],
   "source": [
    "# url is the link of the page they provided us\n",
    "url = \"https://www.immobiliare.it/vendita-case/roma/?criterio=rilevanza&pag=1\"\n",
    "#url = \"https://www.immobiliare.it/vendita-case/roma/?criterio=rilevanza&pag=\"\n",
    "# we need to iterate this for every 1733 pages xD\n",
    "#/for i in range(1734):\n",
    "#    url = \"https://www.immobiliare.it/vendita-case/roma/?criterio=rilevanza&pag=\" + str(i)\n",
    "# getting the url on the 'page' variable\n",
    "page = requests.get(url)\n",
    "# using soup library and saving the parsed html code in 'soup'\n",
    "soup = BeautifulSoup(page.text, 'html.parser')"
   ]
  },
  {
   "cell_type": "code",
   "execution_count": 16,
   "metadata": {},
   "outputs": [],
   "source": [
    "# i noticed that the class name of each insertion is 'descrizione__truncate', then saving them all on text_elem\n",
    "all_prices = soup.findAll(class_ = \"lif__item lif__pricing\")\n",
    "all_piano = soup.findAll(class_ = \"lif__text lif--muted\")\n",
    "# locali, superficie and bagni all have the same class name, so we need to iterate somehow over parameters?!\n",
    "all_locali = soup.findAll(class_ = \"lif__data\")\n",
    "all_superficie = soup.findAll(class_ = \"lif__data\")\n",
    "all_bagni = soup.findAll(class_ = \"lif__data\")"
   ]
  },
  {
   "cell_type": "code",
   "execution_count": 17,
   "metadata": {},
   "outputs": [
    {
     "name": "stdout",
     "output_type": "stream",
     "text": [
      "<class 'bs4.element.ResultSet'>\n"
     ]
    }
   ],
   "source": [
    "print(type(all_prices))"
   ]
  },
  {
   "cell_type": "code",
   "execution_count": 14,
   "metadata": {},
   "outputs": [],
   "source": [
    "# creating empty list where we're gonna save all the insertions\n",
    "all_apartments = []\n",
    "# loop used to append single insertion to the list\n",
    "for ap in text_elem:\n",
    "    all_apartments.append(ap.text)    \n",
    "# dunno if everything is correct coz we need to create a matrix with the words the asked"
   ]
  },
  {
   "cell_type": "code",
   "execution_count": 15,
   "metadata": {},
   "outputs": [
    {
     "name": "stdout",
     "output_type": "stream",
     "text": [
      "da € 192.000\n",
      "                \n"
     ]
    }
   ],
   "source": [
    "print(all_apartments[0])"
   ]
  }
 ],
 "metadata": {
  "kernelspec": {
   "display_name": "Python 3",
   "language": "python",
   "name": "python3"
  },
  "language_info": {
   "codemirror_mode": {
    "name": "ipython",
    "version": 3
   },
   "file_extension": ".py",
   "mimetype": "text/x-python",
   "name": "python",
   "nbconvert_exporter": "python",
   "pygments_lexer": "ipython3",
   "version": "3.6.5"
  }
 },
 "nbformat": 4,
 "nbformat_minor": 2
}
